{
  "nbformat": 4,
  "nbformat_minor": 0,
  "metadata": {
    "colab": {
      "provenance": []
    },
    "kernelspec": {
      "name": "python3",
      "display_name": "Python 3"
    },
    "language_info": {
      "name": "python"
    }
  },
  "cells": [
    {
      "cell_type": "markdown",
      "source": [
        "**problem 2:-** **valid brackets**"
      ],
      "metadata": {
        "id": "78nu5Fdaazbn"
      }
    },
    {
      "cell_type": "code",
      "execution_count": null,
      "metadata": {
        "id": "TXppcDS2aZZh",
        "colab": {
          "base_uri": "https://localhost:8080/"
        },
        "outputId": "dab1ae39-a2d7-47c5-eb96-60d30f9a8d12"
      },
      "outputs": [
        {
          "output_type": "stream",
          "name": "stdout",
          "text": [
            "Enter a String and press enter:-  ([{([{}])}])\n",
            "True\n"
          ]
        }
      ],
      "source": [
        "def is_valid_brackets(str_input):\n",
        "    l=[]#an empty list\n",
        "    d={\"(\":\")\",\"[\":\"]\",\"{\":\"}\"}\n",
        "    #dictionary with opening and closing brackets as key-value pairs\n",
        "    for char in str_input:\n",
        "       if char in \"([{\":\n",
        "           l.append(char)\n",
        "       else:\n",
        "          if len(l)==0:\n",
        "           #it means unbalanced string so return False\n",
        "           return False\n",
        "      \n",
        "          elif char==d[l[-1]]:\n",
        "              l.pop()#to make len(l)=0\n",
        "      \n",
        "    if len(l)==0:\n",
        "      return True#beacuse opening and closing brackets are balanced\n",
        "    return False\n",
        "str_input=input(\"Enter a String and press enter:-  \")\n",
        "print(is_valid_brackets(str_input))"
      ]
    },
    {
      "cell_type": "markdown",
      "source": [
        "**problem** 1:-**knapsack** "
      ],
      "metadata": {
        "id": "m1xx3iYzataR"
      }
    },
    {
      "cell_type": "code",
      "source": [
        "\"\"\"\n",
        "logic:-find all subsets of weight,value combinations\n",
        "then select subset with maxinum total subset value and total subset weight\n",
        "should be <=given weight city\n",
        "\"\"\"\n",
        "from itertools import combinations\n",
        "def knapsack(array,max_weight,n):\n",
        "    p=[]#list to store weight,value pair\n",
        "    numstr=\"\"\n",
        "\n",
        "    for char in array:\n",
        "        if char.isdigit():\n",
        "          numstr+=char\n",
        "        else:\n",
        "          numstr+=\" \"\n",
        "    numint=[int(x) for x in numstr.split()]\n",
        "    for x in range(0,n*2,2):\n",
        "      p.append([numint[x],numint[x+1]])\n",
        "      #appending weight,value pairs of each object\n",
        "    comb=[]#list to store all subsets\n",
        "    for i in range(1,len(array)+1):\n",
        "      temp=[x for x in combinations(p,i)]\n",
        "      comb.extend(temp)\n",
        "    max_value=0\n",
        "    for subset in comb:\n",
        "      sumweight=0\n",
        "      sumvalue=0\n",
        "      for num in subset:\n",
        "        sumweight+=num[0]\n",
        "        sumvalue+=num[1]\n",
        "      if sumvalue>max_value and sumweight<=max_weight:\n",
        "        max_value=sumvalue\n",
        "    return max_value\n",
        "array=[x for x in input(\"enter all objects in single line as shown below:-  \")]\n",
        "max_weight=int(input(\"enter max_weight capacity:-  \"))\n",
        "n=int(input(\"enter number of objects:-  \"))\n",
        "\n",
        "print(\"maximum_value:- \",knapsack(array,max_weight,n))\n"
      ],
      "metadata": {
        "id": "5Sb-hhPkau3y",
        "colab": {
          "base_uri": "https://localhost:8080/"
        },
        "outputId": "7f740771-8a46-44a5-9e01-55e7107cc3ba"
      },
      "execution_count": null,
      "outputs": [
        {
          "output_type": "stream",
          "name": "stdout",
          "text": [
            "enter all objects in single line as shown below:-  { name:'cheese', weight:23, value:30 }, { name:'beer', weight:52, value:10 }, {  name:'suntan cream', weight:11, value:70 }, { name:'camera', weight:32, value:30 }, { name:'T-shirt',  weight:24, value:15 }, { name:'trousers', weight:48, value:10 }, { name:'umbrella', weight:73, value:40  }\n",
            "enter max_weight capacity:-  100\n",
            "enter number of objects:-  7\n",
            "maximum_value:-  145\n"
          ]
        }
      ]
    },
    {
      "cell_type": "markdown",
      "source": [
        "**problem 3:-openCv module**"
      ],
      "metadata": {
        "id": "HXw8qwyu4PPf"
      }
    },
    {
      "cell_type": "code",
      "source": [
        "\"\"\"please copy this code and run it in your local environment \n",
        "with your local videopath download video from\n",
        "https://drive.google.com/file/d/1TZJ5P6uX5oIEf6_8qra_Q1XGSZ5vzVUI/view\"\"\"\n",
        "\n",
        "import cv2\n",
        "#imports openCv module in python\n",
        "video=cv2.VideoCapture(\"C:/Users/reddy/Downloads/video.mp4\")\n",
        "#to read the video object,mention video path correctly\n",
        "video.set(cv2.CAP_PROP_POS_MSEC,30000)\n",
        "#to set startframe to 30,000 miliseconds\n",
        "delta=100//2 #given length&width of red box is 100px\n",
        "while video.get(cv2.CAP_PROP_POS_MSEC)<=35000:\n",
        "  #5 sec=35000-30000=5000 miliseconds\n",
        "    boolvalue,frame=video.read()\n",
        "    #cap.read() returns tuple containing boolean value and frame\n",
        "    if not boolvalue:\n",
        "      #break loop if boolean value is not True\n",
        "        break\n",
        "    if boolvalue:\n",
        "        height,width,channels=frame.shape\n",
        "        #returns tuple containing dimensions & number of channels like RGB(3 channels)\n",
        "        x1=int(width/2-delta)#here width ,height are in pixels\n",
        "        y1=int(height/2-delta)\n",
        "        #(x1,y1) are coordinates of top left corner of rectangle\n",
        "        x2=int(width/2+delta)\n",
        "        y2=int(height/2+delta)\n",
        "        #(x2,y2) are coordinates of bottom right corner\n",
        "        cv2.rectangle(frame,(x1,y1),(x2,y2),(0,0,255),cv2.FILLED)\n",
        "        #(0,0,255) represents RGB value of red\n",
        "        #cv2.filled means thickness fill red colour in whole rectangle area\n",
        "        cv2.imshow('Frame',frame)#show every frame\n",
        "        cv2.waitKey(1) #in order to see video\n",
        "video.release()#release video object after completion of loop"
      ],
      "metadata": {
        "id": "DgabG39w4S8q"
      },
      "execution_count": null,
      "outputs": []
    },
    {
      "cell_type": "code",
      "source": [],
      "metadata": {
        "id": "XjFM_Hi34MHG"
      },
      "execution_count": null,
      "outputs": []
    }
  ]
}